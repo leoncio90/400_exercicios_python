{
 "cells": [
  {
   "cell_type": "markdown",
   "metadata": {},
   "source": [
    "###### 400 exercícios do básico ao avançado"
   ]
  },
  {
   "cell_type": "markdown",
   "metadata": {},
   "source": [
    "61 - Crie uma função de número de parâmetros indefinido, que realiza a soma dos números repassados como parâmetro, independentemente da quantidade de números:"
   ]
  },
  {
   "cell_type": "code",
   "execution_count": 18,
   "metadata": {},
   "outputs": [
    {
     "name": "stdout",
     "output_type": "stream",
     "text": [
      "O resultado da soma é: 130\n"
     ]
    }
   ],
   "source": [
    "\n",
    "def soma(*args):\n",
    "  \n",
    "  num = 0\n",
    "  \n",
    "  for valordigitado in args:\n",
    "    num += valordigitado\n",
    "    \n",
    "  print(f'O resultado da soma é: {num}')\n",
    "\n",
    "soma = soma(9,18,43,59,1)"
   ]
  },
  {
   "cell_type": "markdown",
   "metadata": {},
   "source": [
    "62 - Crie uma função que recebe parâmetros tanto por justaposição(*args) quanto nomeados(**kwargs):"
   ]
  },
  {
   "cell_type": "code",
   "execution_count": 2,
   "metadata": {},
   "outputs": [
    {
     "name": "stdout",
     "output_type": "stream",
     "text": [
      "Nome:Jhonata, idade, 33\n",
      "Nome:Jhonata, sexo, M\n"
     ]
    }
   ],
   "source": [
    "def identificacao(*args, **kwargs):\n",
    "  \n",
    "  for n in args:\n",
    "    nome = n\n",
    "    #print(f'{n}')\n",
    "    \n",
    "    for k, v in kwargs.items():\n",
    "      idade = k\n",
    "      sexo = v\n",
    "      #print(f'{idade},{sexo}')\n",
    "      \n",
    "      print(f'Nome:{nome}, {idade}, {sexo}')\n",
    "      \n",
    "pessoa = identificacao('Jhonata', idade = 33, sexo = 'M')"
   ]
  },
  {
   "cell_type": "markdown",
   "metadata": {},
   "source": [
    "63 - Escreva um programa que retorna o número de fibonacci: sendo o número de Fibonacci um valor iniciado em 0 ou em 1 onde cada termo subsequente corresponde à soma dos dois anteriores."
   ]
  },
  {
   "cell_type": "code",
   "execution_count": 1,
   "metadata": {},
   "outputs": [
    {
     "name": "stdout",
     "output_type": "stream",
     "text": [
      "3\n"
     ]
    }
   ],
   "source": [
    "def fibonacci(n):\n",
    "  if n <= 1:\n",
    "    return n\n",
    "  else:\n",
    "    return fibonacci(n - 1) + fibonacci(n - 2)\n",
    "\n",
    "num = int(input('Digite um número para encontrar seu fibonacci: '))\n",
    "\n",
    "resposta = fibonacci(num - 1)\n",
    "\n",
    "print(resposta)"
   ]
  },
  {
   "cell_type": "markdown",
   "metadata": {},
   "source": [
    "64 - Crie um programa modularizado, onde em um arquivo teremos uma lista de médicos fictícios a serem consultados, em outro arquivo, teremos a estrutura principal do programa, que por sua vez realiza o agendamento de uam consulta médica com base na interação com o usuário."
   ]
  },
  {
   "cell_type": "code",
   "execution_count": 6,
   "metadata": {},
   "outputs": [],
   "source": [
    "# Arquivo medicos.py\n",
    "\n",
    "medicos = ['Amanda Maria', 'Jhonata Leoncio']"
   ]
  },
  {
   "cell_type": "code",
   "execution_count": 17,
   "metadata": {},
   "outputs": [
    {
     "name": "stdout",
     "output_type": "stream",
     "text": [
      "Asd, escolha com qual médico deseja se consultar: \n",
      "1 - Amanda Maria\n",
      "2 - Jhonata Leoncio\n",
      "Sua consulta com a Dra.Amanda Maria, será agendada.\n"
     ]
    }
   ],
   "source": [
    "# Arquivo main.py\n",
    "\n",
    "#import medicos  - usar esse comando para importar o arquivo medicos.py\n",
    "\n",
    "menu = str(input('Deseja agendar uma consulta? (S ou N)')).upper()\n",
    "\n",
    "if menu == 'S':\n",
    "  paciente = input('Por favor digite seu nome completo: ').capitalize()\n",
    "  print(f'{paciente}, escolha com qual médico deseja se consultar: ')\n",
    "  print('1 - Amanda Maria')\n",
    "  print('2 - Jhonata Leoncio')\n",
    "  medico = input('Com qual médico deseja agendar consulta?')\n",
    "  \n",
    "  if medico == '1':\n",
    "    print(f'Sua consulta com a Dra. {medicos[0]}, será agendada.') # caso o código fosse buscar a lista no arquivo medicos.py, a variável chamada nessa linha seria medicos.medicos[]\n",
    "  if medico == '2':\n",
    "    print(f'Sua consulta com o Dr. {medicos[1]}, será agendada.') # caso o código fosse buscar a lista no arquivo medicos.py, a variável chamada nessa linha seria medicos.medicos[]\n",
    "else:\n",
    "  print('Agradecemos o seu contato!')"
   ]
  },
  {
   "cell_type": "markdown",
   "metadata": {},
   "source": [
    "65 - Aprimore o exemplo anterior, incluindo um módulo simulando o cadastro de usuários em um plano de saúde, apenas permitindo o agendamento de consulta caso o usuário que está interagindo com o programa conste no cadastro:"
   ]
  },
  {
   "cell_type": "code",
   "execution_count": null,
   "metadata": {},
   "outputs": [],
   "source": [
    "# Arquivo medicos.py\n",
    "\n",
    "medicos = ['Amanda Maria', 'Jhonata Leoncio']"
   ]
  },
  {
   "cell_type": "code",
   "execution_count": 25,
   "metadata": {},
   "outputs": [],
   "source": [
    "# Arquivo cadastro_plano_de_saude.py\n",
    "\n",
    "users = {'001':'Fernando Feltrin', '002':'Ana Clara'}"
   ]
  },
  {
   "cell_type": "code",
   "execution_count": 36,
   "metadata": {},
   "outputs": [
    {
     "name": "stdout",
     "output_type": "stream",
     "text": [
      "Bem vindo Fernando!\n",
      "Fernando, escolha com qual médico deseja consultar:\n",
      "1 - Amanda Maria\n",
      "2 - Jhonata Leoncio\n",
      "Fernando, Sua consulta com o Dr. Jhonata Leoncio, será agendada.\n"
     ]
    }
   ],
   "source": [
    "# Arquivo main.py\n",
    "\n",
    "'''import medicos  \n",
    "   import cadastro_plano_de_saude  - - usar esses comando para importar o arquivo medicos.py dentro do main.py'''\n",
    "   \n",
    "user = str(input('Digite seu número de usuário: '))\n",
    "\n",
    "if user in users.keys(): # caso o código fosse buscar a lista no arquivo cadastro_plano_de_saude.py, a chamada nessa linha seria:  if user in cadastro_plano_de_saude.users.keys():\n",
    "   if user == '001':\n",
    "      user = 'Fernando'\n",
    "      print(f'Bem vindo {user}!')\n",
    "   \n",
    "   # return user\n",
    "   elif user == '002':\n",
    "      user = 'Ana Clara'\n",
    "      print(f'Bem vindo {user}!')\n",
    "      \n",
    "   # return user\n",
    "   else:\n",
    "      print('Usuário desconhecido ou não cadastrado!')\n",
    "      \n",
    "   menu = str(input('Deseja agendar uam consulta? (S ou N)')).upper()\n",
    "   \n",
    "   if menu == 'S':\n",
    "      print(f'{user}, escolha com qual médico deseja consultar:')\n",
    "      \n",
    "      print('1 - Amanda Maria')\n",
    "      print('2 - Jhonata Leoncio')\n",
    "      \n",
    "      medico = int(input('Com qual médico você deseja realizar a consulta?'))\n",
    "      \n",
    "      if medico == 1:\n",
    "         print(f'{user}, Sua consulta com a Dra. {medicos[0]}, será agendada.') # caso o código fosse buscar a lista no arquivo medicos.py, a variável chamada nessa linha seria medicos.medicos[]\n",
    "      if medico == 2:\n",
    "         print(f'{user}, Sua consulta com o Dr. {medicos[1]}, será agendada.') # caso o código fosse buscar a lista no arquivo medicos.py, a variável chamada nessa linha seria medicos.medicos[]\n",
    "   else:\n",
    "      print('Agradecemos o seu contato!')\n",
    "      \n",
    "else:\n",
    "   print('Usuário não cadastrado.')"
   ]
  },
  {
   "cell_type": "markdown",
   "metadata": {},
   "source": [
    "66 - Crie uma função que recebe parâmetros tanto por justaposição quanto nomeados a partir de uam lista e de um dicionário, desempacotando os elementos e reorganizando os mesmos como parâmetros da função:"
   ]
  },
  {
   "cell_type": "code",
   "execution_count": 2,
   "metadata": {},
   "outputs": [
    {
     "name": "stdout",
     "output_type": "stream",
     "text": [
      "(33, 1987, 2020)\n",
      "{'Nome': 'Fernando', 'Profissão': 'Engenheiro'}\n"
     ]
    }
   ],
   "source": [
    "numeros = (33, 1987, 2020)\n",
    "dados = {'Nome':'Fernando','Profissão':'Engenheiro'}\n",
    "\n",
    "def identificacao(*args, **kwargs):\n",
    "  print(args)\n",
    "  print(kwargs)\n",
    "  \n",
    "identificacao(*numeros, **dados)"
   ]
  },
  {
   "cell_type": "markdown",
   "metadata": {},
   "source": [
    "67 - Crie uma classe de nome carro e lhe dê três atributos: nome, ano, cor:"
   ]
  },
  {
   "cell_type": "code",
   "execution_count": 2,
   "metadata": {},
   "outputs": [],
   "source": [
    "class carro: \n",
    "\n",
    "  def __init__(self, nome, ano, cor):\n",
    "    self.nome = nome\n",
    "    self.ano = ano\n",
    "    self.cor = cor"
   ]
  },
  {
   "cell_type": "markdown",
   "metadata": {},
   "source": [
    "68 - Crie uma classe pessoa, instancie a mesma por meio de uma variável e crie alguns atributos de classe dando características a essa pessoa. Por fim, exiba em tela alguma mensagem que incorpore os atributos de classe criados:"
   ]
  },
  {
   "cell_type": "code",
   "execution_count": 4,
   "metadata": {},
   "outputs": [
    {
     "name": "stdout",
     "output_type": "stream",
     "text": [
      "Jhonata tem 33 anos e é um Alpinista...\n"
     ]
    }
   ],
   "source": [
    "class Pessoa:\n",
    "  pass\n",
    "\n",
    "pessoa1 = Pessoa()\n",
    "pessoa1.nome = 'Jhonata'\n",
    "pessoa1.idade = 33\n",
    "pessoa1.profissao = 'Alpinista'\n",
    "\n",
    "print(f'{pessoa1.nome} tem {pessoa1.idade} anos e é um {pessoa1.profissao}...')"
   ]
  },
  {
   "cell_type": "markdown",
   "metadata": {},
   "source": [
    "69 - Crie uma classe que armazena algumas características de um carro, em seguida crie dois carros distintos, de características diferentes, usando da classe para construção de seus objetos/variáveis:"
   ]
  },
  {
   "cell_type": "code",
   "execution_count": 9,
   "metadata": {},
   "outputs": [
    {
     "name": "stdout",
     "output_type": "stream",
     "text": [
      "Carro nº1: Ano = 2022, Cor = prata, Modelo = hatch, Opcionais = nenhum\n",
      "Carro nº1: Ano = 2016, Cor = preto, Modelo = sedan, Opcionais = nenhum\n"
     ]
    }
   ],
   "source": [
    "class Carro:\n",
    "  ano = 2022\n",
    "  cor = 'prata'\n",
    "  modelo = 'hatch'\n",
    "  opcionais = 'nenhum'\n",
    "  \n",
    "carro1 = Carro() \n",
    "\n",
    "carro2 = Carro()\n",
    "carro2.ano = 2016\n",
    "carro2.cor = 'preto'\n",
    "carro2.modelo = 'sedan'\n",
    "\n",
    "print(f'Carro nº1: Ano = {carro1.ano}, Cor = {carro1.cor}, Modelo = {carro1.modelo}, Opcionais = {carro1.opcionais}')\n",
    "print(f'Carro nº1: Ano = {carro2.ano}, Cor = {carro2.cor}, Modelo = {carro2.modelo}, Opcionais = {carro2.opcionais}')"
   ]
  },
  {
   "cell_type": "markdown",
   "metadata": {},
   "source": [
    "70 - Crie uma classe pessoa com método inicializador e alguns objetos de classe vazios dentro da mesma que representem características de uma pessoa:"
   ]
  },
  {
   "cell_type": "code",
   "execution_count": 10,
   "metadata": {},
   "outputs": [],
   "source": [
    "class Pessoa:\n",
    "  def __init__(self):\n",
    "    self.nome = None\n",
    "    self.idade = None\n",
    "    self.altura = None\n",
    "    self.peso = None\n",
    "    self.sexo = None"
   ]
  }
 ],
 "metadata": {
  "kernelspec": {
   "display_name": "Python 3",
   "language": "python",
   "name": "python3"
  },
  "language_info": {
   "codemirror_mode": {
    "name": "ipython",
    "version": 3
   },
   "file_extension": ".py",
   "mimetype": "text/x-python",
   "name": "python",
   "nbconvert_exporter": "python",
   "pygments_lexer": "ipython3",
   "version": "3.11.6"
  }
 },
 "nbformat": 4,
 "nbformat_minor": 2
}
