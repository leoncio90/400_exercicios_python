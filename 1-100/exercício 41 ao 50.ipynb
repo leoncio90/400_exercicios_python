{
 "cells": [
  {
   "cell_type": "markdown",
   "metadata": {},
   "source": [
    "###### 400 exercícios do básico ao avançado"
   ]
  },
  {
   "cell_type": "markdown",
   "metadata": {},
   "source": [
    "41 - Adicione o elemento 'Eliana' na lista nomes, especificamente na terceira posição da lista:"
   ]
  },
  {
   "cell_type": "code",
   "execution_count": 1,
   "metadata": {},
   "outputs": [
    {
     "name": "stdout",
     "output_type": "stream",
     "text": [
      "['Ana', 'Carlos', 'Eliana', 'Jamile', 'Fernando', 'Maria', 'Paulo']\n"
     ]
    }
   ],
   "source": [
    "nomes = ['Ana', 'Carlos', 'Jamile', 'Fernando', 'Maria', 'Paulo']\n",
    "nomes.insert(2,'Eliana')\n",
    "\n",
    "print(nomes)"
   ]
  },
  {
   "cell_type": "markdown",
   "metadata": {},
   "source": [
    "42 - Remova o elemento 'Carlos' da lista nomes:"
   ]
  },
  {
   "cell_type": "code",
   "execution_count": 2,
   "metadata": {},
   "outputs": [
    {
     "name": "stdout",
     "output_type": "stream",
     "text": [
      "['Ana', 'Eliana', 'Jamile', 'Fernando', 'Maria', 'Paulo']\n"
     ]
    }
   ],
   "source": [
    "nomes.remove('Carlos')\n",
    "\n",
    "print(nomes)"
   ]
  },
  {
   "cell_type": "markdown",
   "metadata": {},
   "source": [
    "43 - Mostre o segundo, terceiro e quarto elemento da lista nomes. \n",
    "\n",
    "Separadamente, mostre apenas o último elemento da lista nomes:"
   ]
  },
  {
   "cell_type": "code",
   "execution_count": 3,
   "metadata": {},
   "outputs": [
    {
     "name": "stdout",
     "output_type": "stream",
     "text": [
      "['Eliana', 'Jamile', 'Fernando']\n",
      "Paulo\n"
     ]
    }
   ],
   "source": [
    "print(nomes[1:4])\n",
    "\n",
    "print(nomes[-1])"
   ]
  },
  {
   "cell_type": "markdown",
   "metadata": {},
   "source": [
    "44 - Crie um dicionário via método construtor dict(), atribuindo para o mesmo ao menos 5 conjuntos de chaves e valores representando objetos e seus respectivos preços:"
   ]
  },
  {
   "cell_type": "code",
   "execution_count": 4,
   "metadata": {},
   "outputs": [
    {
     "name": "stdout",
     "output_type": "stream",
     "text": [
      "{'Pão': 2.49, 'Açucar': 0.99, 'Ovo': 9.0, 'Farinha': 1.99, 'Carne': 39.9}\n"
     ]
    }
   ],
   "source": [
    "precos = dict(Pão = 2.49, Açucar = 0.99, Ovo = 9.00, Farinha = 1.99, Carne = 39.90)\n",
    "\n",
    "print(precos)\n",
    "\n"
   ]
  },
  {
   "cell_type": "markdown",
   "metadata": {},
   "source": [
    "45 - A partir da seguinte lista ['c','JavaScript','Lua','python'] verifique primeiramente e retorne ao usuário se a linguagem de programação python consta na lista. \n",
    "     Retorne uma mensagem amigável ao usuário para estas duas situações:"
   ]
  },
  {
   "cell_type": "code",
   "execution_count": 5,
   "metadata": {},
   "outputs": [
    {
     "name": "stdout",
     "output_type": "stream",
     "text": [
      "Python está na lista!\n"
     ]
    }
   ],
   "source": [
    "linguagem = ['c','JavaScript','Lua','python']\n",
    "\n",
    "for i in linguagem:\n",
    "  if i == 'python':\n",
    "    print('Python está na lista!')\n",
    "  else:\n",
    "    pass"
   ]
  },
  {
   "cell_type": "markdown",
   "metadata": {},
   "source": [
    "46 - A partir de um simples dicionário composto por três itens, ['Alto Nível':'Python','Médio Nível':'C','Baixo Nível':'Assembly'],verifique se 'Python' consta no dicionário em questão, utilizando de negação lógica para tal verificação:"
   ]
  },
  {
   "cell_type": "code",
   "execution_count": 6,
   "metadata": {},
   "outputs": [
    {
     "name": "stdout",
     "output_type": "stream",
     "text": [
      "Python está na lista.\n"
     ]
    }
   ],
   "source": [
    "linguagens = {'Alto Nível':'Python','Médio Nível':'C','Baixo Nível':'Assembly'}\n",
    "\n",
    "for i in linguagens.values():\n",
    "  if not i == 'Python':\n",
    "    print('Python não está na lista.')\n",
    "  else:\n",
    "    print('Python está na lista.')\n",
    "    break"
   ]
  },
  {
   "cell_type": "markdown",
   "metadata": {},
   "source": [
    "47 - Crie um dicionário usando o construtor de dicionários do python, alimente os valores do mesmo com os dados de duas listas:"
   ]
  },
  {
   "cell_type": "code",
   "execution_count": 7,
   "metadata": {},
   "outputs": [
    {
     "name": "stdout",
     "output_type": "stream",
     "text": [
      "{'keys': ('ovo', 'maçã', 'carne', 'feijão', 'açucar'), 'values': (9.99, 4.49, 42.5, 8.9, 1.99)}\n",
      "<class 'dict'>\n"
     ]
    }
   ],
   "source": [
    "itens = ('ovo', 'maçã', 'carne', 'feijão', 'açucar')\n",
    "preco = (9.99, 4.49, 42.50, 8.90, 1.99)\n",
    "\n",
    "dicionario = dict(keys = itens, values = preco)\n",
    "\n",
    "print(dicionario)\n",
    "print(type(dicionario))"
   ]
  },
  {
   "cell_type": "markdown",
   "metadata": {},
   "source": [
    "48 - Crie uma simples estrutura de dados simulando um cadastro para uam loja. Nesse cadastro deve conter informações como nome, idade, sexo, estado civil, nacionalidade, faixa de renda, etc...\n",
    "\n",
    "Exiba em tela tais dados:"
   ]
  },
  {
   "cell_type": "code",
   "execution_count": 8,
   "metadata": {},
   "outputs": [
    {
     "name": "stdout",
     "output_type": "stream",
     "text": [
      "{'nome': 'jhonata', 'idade': 33, 'sexo': 'Masculino', 'estado_civil': 'Casado', 'nacionalidade': 'Brasileiro', 'faixa_de_renda': 'R$ 2.000,00'}\n"
     ]
    }
   ],
   "source": [
    "banco_de_dados = dict(nome = 'jhonata', idade = 33 , sexo = 'Masculino', estado_civil = 'Casado', nacionalidade = 'Brasileiro', faixa_de_renda = 'R$ 2.000,00')\n",
    "\n",
    "print(banco_de_dados)\n"
   ]
  },
  {
   "cell_type": "code",
   "execution_count": 9,
   "metadata": {},
   "outputs": [
    {
     "name": "stdout",
     "output_type": "stream",
     "text": [
      "{'nome': 'jhonata', 'idade': 33, 'sexo': 'Masculino', 'estado_civil': 'Casado', 'escolaridade': ['Ensino superior', 'Doutorado'], 'nacionalidade': 'Brasileiro', 'faixa_de_renda': 'R$ 2.000,00'}\n"
     ]
    }
   ],
   "source": [
    "cadastro = {'nome':'jhonata', 'idade':33, 'sexo':'Masculino', 'estado_civil':'Casado','escolaridade':['Ensino superior', 'Doutorado'], 'nacionalidade':'Brasileiro', 'faixa_de_renda':'R$ 2.000,00'}\n",
    "\n",
    "print(cadastro)"
   ]
  },
  {
   "cell_type": "markdown",
   "metadata": {},
   "source": [
    "49 - Crie um programa que recebe dados de um aluno como nome e suas notas em supostos 3 trimestres de aula, retornando um novo dicionário com o nome do aluno e a média de suas notas:"
   ]
  },
  {
   "cell_type": "code",
   "execution_count": 12,
   "metadata": {},
   "outputs": [
    {
     "name": "stdout",
     "output_type": "stream",
     "text": [
      "[{'Nome': 'Fernando', 'Média das Notas': 75}]\n"
     ]
    }
   ],
   "source": [
    "aluno = [{'Nome':'Fernando','Notas':[62, 73, 90]}]\n",
    "\n",
    "def calculo_media(aluno):\n",
    "  notas = []\n",
    "  \n",
    "  for media in aluno:\n",
    "    if len(media['Notas']) > 0:\n",
    "      temp = round(sum(media['Notas'])/len(media['Notas']))\n",
    "    else:\n",
    "      temp = 0\n",
    "    notas.append({'Nome':media['Nome'],'Média das Notas':temp})\n",
    "  print(notas)\n",
    "  \n",
    "media_estudante = calculo_media(aluno)\n",
    "\n",
    "# Falta terminar"
   ]
  },
  {
   "cell_type": "markdown",
   "metadata": {},
   "source": [
    "50 - Crie um sistema de perguntas e respostas que interage com o usuário, pedindo que o mesmo insira uma resposta. Caso a primeira questão esteja correta, exiba em tela uma mensagem de acerto e parta para a próxima pergunta, caso incorreta, exiba uma mensagem de erro e pule para a próxima pergunta:"
   ]
  },
  {
   "cell_type": "code",
   "execution_count": 24,
   "metadata": {},
   "outputs": [
    {
     "name": "stdout",
     "output_type": "stream",
     "text": [
      "Pergunta01:Quanto é 4 X 4?\n",
      "[a]:12\n",
      "[b]:24\n",
      "[c]:16\n",
      "[d]:20\n",
      "Resposta Incorreta!!!\n",
      "Pergunta02:Quanto é 6 / 3?\n",
      "[a]:2\n",
      "[b]:1\n",
      "[c]:3\n",
      "[d]:4\n",
      "Resposta Correta!!!\n",
      "Você acertou apenas uma questão.\n"
     ]
    }
   ],
   "source": [
    "base = {'Pergunta01':{\n",
    "          'pergunta':'Quanto é 4 X 4?',\n",
    "          'alternativas':{'a':'12','b':'24','c':'16','d':'20'},\n",
    "          'resposta_certa':'c'},\n",
    "        \n",
    "        'Pergunta02':{\n",
    "          'pergunta':'Quanto é 6 / 3?',\n",
    "          'alternativas':{'a':'2','b':'1','c':'3','d':'4'},\n",
    "          'resposta_certa':'a'\n",
    "          }\n",
    "}\n",
    "\n",
    "respostas_certas = 0\n",
    "\n",
    "for pkeys, pvalues in base.items():\n",
    "  print(f'{pkeys}:{pvalues[\"pergunta\"]}')\n",
    "  \n",
    "  for rkeys, rvalues in pvalues['alternativas'].items():\n",
    "    print(f'[{rkeys}]:{rvalues}')\n",
    "    \n",
    "  resposta = input('Escolha uma alternativa:[a],[b],[c] ou [d]')\n",
    "  \n",
    "  if resposta == pvalues['resposta_certa']:\n",
    "    print('Resposta Correta!!!')\n",
    "    respostas_certas += 1\n",
    "  else:\n",
    "    print('Resposta Incorreta!!!')\n",
    "    \n",
    "    \n",
    "if respostas_certas == 0:\n",
    "  print('Você não acertou nenhuma questão.')\n",
    "elif respostas_certas == 1:\n",
    "  print('Você acertou apenas uma questão.')\n",
    "else:\n",
    "  print('Você acertou todas as questões.')"
   ]
  },
  {
   "cell_type": "code",
   "execution_count": null,
   "metadata": {},
   "outputs": [],
   "source": []
  }
 ],
 "metadata": {
  "kernelspec": {
   "display_name": "Python 3",
   "language": "python",
   "name": "python3"
  },
  "language_info": {
   "codemirror_mode": {
    "name": "ipython",
    "version": 3
   },
   "file_extension": ".py",
   "mimetype": "text/x-python",
   "name": "python",
   "nbconvert_exporter": "python",
   "pygments_lexer": "ipython3",
   "version": "3.11.6"
  }
 },
 "nbformat": 4,
 "nbformat_minor": 2
}
