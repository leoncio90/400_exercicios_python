{
 "cells": [
  {
   "cell_type": "markdown",
   "metadata": {},
   "source": [
    "###### 400 exercícios do básico ao avançado"
   ]
  },
  {
   "cell_type": "markdown",
   "metadata": {},
   "source": [
    "71 - Crie uma classe de nome inventario com os atributos de classe pré-definidos item1 e item2, a serem cadastrados manuakmente pelo usuário, simulando um simples carrinho de compras:"
   ]
  },
  {
   "cell_type": "code",
   "execution_count": 9,
   "metadata": {},
   "outputs": [],
   "source": [
    "class Inventario:\n",
    "  def __init__(self,item1,item2):\n",
    "    self.item1 = item1\n",
    "    self.item2 = item2\n",
    "\n",
    "cliente1 = Inventario('Camisa Adidas Tam GG','Calça jeans Tam 50')"
   ]
  },
  {
   "cell_type": "markdown",
   "metadata": {},
   "source": [
    "72 - Crie uma classe Biblioteca que possui uma estrutura molde básica para cadastro de um livro de acordo com seu título, porém que espera a inclusão de um número não definido  de títulos. Em seguida cadastre ao menos 5 livros nessa biblioteca:"
   ]
  },
  {
   "cell_type": "code",
   "execution_count": 10,
   "metadata": {},
   "outputs": [
    {
     "name": "stdout",
     "output_type": "stream",
     "text": [
      "O iluminado - Stephen King\n"
     ]
    }
   ],
   "source": [
    "class Biblioteca:\n",
    "  def __init__(self, livro1, **kwargs):\n",
    "    self.livro1 = livro1\n",
    "    \n",
    "prateleira1 = Biblioteca('LIVRO TESTE')\n",
    "\n",
    "prateleira1.livro2 = '1984 - George Orwell'\n",
    "prateleira1.livro3 = 'Duna - Frank Herbert'\n",
    "prateleira1.livro4 = 'O iluminado - Stephen King'\n",
    "prateleira1.livro5 = 'O exorcista - William Peter Blatty'\n",
    "prateleira1.livro6 = 'O Hobbit - J.R.R. Tolkien'\n",
    "\n",
    "print(prateleira1.livro4)"
   ]
  },
  {
   "cell_type": "markdown",
   "metadata": {},
   "source": [
    "73 - Crie uma calculadora simples de 4 operações (soma, subtração, multiplicação e divisão) usando apenas estrutura de código orientada a objetos:"
   ]
  },
  {
   "cell_type": "code",
   "execution_count": 11,
   "metadata": {},
   "outputs": [
    {
     "name": "stdout",
     "output_type": "stream",
     "text": [
      "Escolha a operação:\n",
      "[1] - Soma\n",
      "[2] - Subtração\n",
      "[3] - Multiplicação\n",
      "[4] - Divisão\n",
      " 3.0 * 3.0 = 9.0\n"
     ]
    }
   ],
   "source": [
    "class Calculadora:\n",
    "  \n",
    "  \n",
    "  def menu(self):\n",
    "    print('Escolha a operação:')\n",
    "    print('[1] - Soma')\n",
    "    print('[2] - Subtração')\n",
    "    print('[3] - Multiplicação')\n",
    "    print('[4] - Divisão')\n",
    "    escolha = input('Digite a opção da operação desejada (1-4):')\n",
    "    if escolha in ('1','2','3','4'):\n",
    "      n1 = float(input('Digite o primeiro número: '))\n",
    "      n2 = float(input('Digite o segundo número: '))\n",
    "      \n",
    "      if escolha == '1':\n",
    "        resultado = (f' {n1} + {n2} = {self.soma(n1,n2)}')\n",
    "      elif escolha == '2':\n",
    "        resultado = (f' {n1} - {n2} = {self.subtracao(n1,n2)}')\n",
    "      elif escolha == '3':\n",
    "        resultado = (f' {n1} * {n2} = {self.multiplicacao(n1,n2)}')\n",
    "      elif escolha == '4':\n",
    "        resultado = (f' {n1} / {n2} = {self.divisao(n1,n2):.3f}')\n",
    "      \n",
    "    \n",
    "    else:\n",
    "      print('Opção inválida. Tente novamente.')\n",
    "      resultado = None\n",
    "      \n",
    "    if resultado is not None:\n",
    "      print(f'{resultado}')\n",
    "    \n",
    "    \n",
    "    \n",
    "  def soma(self,n1,n2):\n",
    "    \n",
    "    return n1 + n2\n",
    "    \n",
    "    \n",
    "  def subtracao(self,n1,n2):\n",
    "    \n",
    "    return n1 - n2\n",
    "    \n",
    "    \n",
    "  def multiplicacao(self,n1,n2):\n",
    "    \n",
    "    return n1 * n2\n",
    "    \n",
    "    \n",
    "  def divisao(self,n1,n2):\n",
    "    if n2 != 0:\n",
    "      return n1 / n2\n",
    "    else:\n",
    "      print('Erro: divisão por zero!')\n",
    "      return None\n",
    "    \n",
    "calc = Calculadora()\n",
    "calc.menu()\n"
   ]
  },
  {
   "cell_type": "markdown",
   "metadata": {},
   "source": [
    "74 - Mostre via terminal a string 'Bem vindo ao mundo da programação!!!' de trás pra frente usando indexação:"
   ]
  },
  {
   "cell_type": "code",
   "execution_count": 12,
   "metadata": {},
   "outputs": [
    {
     "name": "stdout",
     "output_type": "stream",
     "text": [
      "!!!oãçamargorp ad odnum oa odniv meB\n"
     ]
    }
   ],
   "source": [
    "variavel = 'Bem vindo ao mundo da programação!!!'\n",
    "\n",
    "print(variavel[::-1])"
   ]
  },
  {
   "cell_type": "markdown",
   "metadata": {},
   "source": [
    "75 - Escreva um programa que encontre todos os números que são divisíveis por 7, mas que não são múltiplos de 5, entre 2000 e 2200(ambos incluídos).\n",
    "      Os números obtidos devem ser impressos em sequência, separados por vírgula e em uma única linha:"
   ]
  },
  {
   "cell_type": "code",
   "execution_count": 16,
   "metadata": {},
   "outputs": [
    {
     "name": "stdout",
     "output_type": "stream",
     "text": [
      "2002,2009,2016,2023,2037,2044,2051,2058,2072,2079,2086,2093,2107,2114,2121,2128,2142,2149,2156,2163,2177,2184,2191,2198\n"
     ]
    }
   ],
   "source": [
    "lista=[]\n",
    "\n",
    "for i in range(2000,2201):\n",
    "  if (i % 7 == 0) and (i % 5 != 0):\n",
    "    lista.append(str(i))\n",
    "    \n",
    "print(','.join(lista))"
   ]
  },
  {
   "cell_type": "markdown",
   "metadata": {},
   "source": [
    "76 - Escreva um programa, uma calculadora simples de 4 operações, onde o usuário escolherá entre uma das 4 operações(soma, subtração, multiplicação e divisão). Lembrando que o usuário digitará apenas dois valores, e escolherá apenas uma operação matemática do menu."
   ]
  },
  {
   "cell_type": "code",
   "execution_count": 17,
   "metadata": {},
   "outputs": [
    {
     "name": "stdout",
     "output_type": "stream",
     "text": [
      "CALCULADORA\n",
      "+ -> SOMA\n",
      "- -> SUBTRAÇÃO\n",
      "* -> MULTIPLICAÇÃO\n",
      "/ -> DIVISÃO\n",
      "O resultado da soma é: 2000.0\n"
     ]
    }
   ],
   "source": [
    "print('CALCULADORA')\n",
    "print('+ -> SOMA')\n",
    "print('- -> SUBTRAÇÃO')\n",
    "print('* -> MULTIPLICAÇÃO')\n",
    "print('/ -> DIVISÃO')\n",
    "\n",
    "a = float(input('Digite o primeiro número: '))\n",
    "b = float(input('Digite o segundo número: '))\n",
    "\n",
    "operacao = input('Digite a operação a realizar(+, -, * ou /): ')\n",
    "\n",
    "if operacao == '+':\n",
    "  soma = a + b\n",
    "  print(f'O resultado da soma é: {soma}')\n",
    "elif operacao == '-':\n",
    "  subtracao = a - b\n",
    "  print(f'O resultado da subtração é: {subtracao}')\n",
    "elif operacao == '*':\n",
    "  multiplicacao = a * b\n",
    "  print(f'O resultado da multiplicação é: {multiplicacao}')\n",
    "elif operacao == '/':\n",
    "  divisao = a / b\n",
    "  print(f'O resultado da divisão é: {divisao}')"
   ]
  },
  {
   "cell_type": "markdown",
   "metadata": {},
   "source": [
    "77 - Crie uma função que receba um número e retorna o mesmo dividido em duas metades, sendo cada metade um elemento de uma lista:"
   ]
  },
  {
   "cell_type": "code",
   "execution_count": 19,
   "metadata": {},
   "outputs": [
    {
     "name": "stdout",
     "output_type": "stream",
     "text": [
      "[6, 6]\n"
     ]
    }
   ],
   "source": [
    "def split_half(n):\n",
    "  return[n//2, n//2]\n",
    "\n",
    "n = int(input('Digite um número: '))\n",
    "print(split_half(n))"
   ]
  },
  {
   "cell_type": "markdown",
   "metadata": {},
   "source": [
    "78 - Crie um programa que gera um dicionário a partir de um valor digitado pelo usuário, de modo que serão exibidos todos os valores antecessores ea este número multiplicados por eles mesmo. Supondo que o usuário tenha digitado 4, a saída dever ser{1:1, 2:4, 3:9, 4:16}:"
   ]
  },
  {
   "cell_type": "code",
   "execution_count": 22,
   "metadata": {},
   "outputs": [
    {
     "name": "stdout",
     "output_type": "stream",
     "text": [
      "{1: 1, 2: 4, 3: 9, 4: 16, 5: 25, 6: 36, 7: 49, 8: 64, 9: 81, 10: 100, 11: 121, 12: 144, 13: 169, 14: 196}\n"
     ]
    }
   ],
   "source": [
    "numero = int(input('Digite um número: '))\n",
    "dic = dict()\n",
    "\n",
    "for i in range(1, numero + 1):\n",
    "  dic[i] = i * i\n",
    "  \n",
    "print(dic)"
   ]
  },
  {
   "cell_type": "markdown",
   "metadata": {},
   "source": [
    "79 -Defina uma função que pode aceitar duas strings como entrada,exibindo em tela apenas a string de maior tamanho/comprimento. Caso as duas strings tenham mesmo tamanhp, exiba em tela as duas:"
   ]
  },
  {
   "cell_type": "code",
   "execution_count": 40,
   "metadata": {},
   "outputs": [
    {
     "name": "stdout",
     "output_type": "stream",
     "text": [
      "mariana é a string de maior tamanho\n"
     ]
    }
   ],
   "source": [
    "def msg_maior(a1,b1):\n",
    "  len1 = len(a1)\n",
    "  len2 = len(b1)\n",
    "  \n",
    "  if len1 > len2:\n",
    "    print(f'{a1} é a string de maior tamanho')\n",
    "    \n",
    "  elif len2 > len1:\n",
    "    print(f'{b1} é a string de maior tamanho')\n",
    "    \n",
    "  else:\n",
    "    print('são strings de mesmo tamanho')\n",
    "    print(a1)\n",
    "    print(b1)\n",
    "    \n",
    "    \n",
    "msg_maior('mariana', 'Python')"
   ]
  },
  {
   "cell_type": "markdown",
   "metadata": {},
   "source": [
    "80 - Escreva um programa que recebe um texto do usuário e o converte para código Morse, exibindo em tela o texto em formato morse, seguindo a padronização '.-'(ponto,traço):"
   ]
  },
  {
   "cell_type": "code",
   "execution_count": null,
   "metadata": {},
   "outputs": [],
   "source": []
  }
 ],
 "metadata": {
  "kernelspec": {
   "display_name": "Python 3",
   "language": "python",
   "name": "python3"
  },
  "language_info": {
   "codemirror_mode": {
    "name": "ipython",
    "version": 3
   },
   "file_extension": ".py",
   "mimetype": "text/x-python",
   "name": "python",
   "nbconvert_exporter": "python",
   "pygments_lexer": "ipython3",
   "version": "3.12.0"
  }
 },
 "nbformat": 4,
 "nbformat_minor": 2
}
