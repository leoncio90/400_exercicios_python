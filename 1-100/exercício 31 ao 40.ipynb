{
 "cells": [
  {
   "cell_type": "markdown",
   "metadata": {},
   "source": [
    "###### 400 exercícios do básico ao avançado"
   ]
  },
  {
   "cell_type": "markdown",
   "metadata": {},
   "source": [
    "31 - Crie um programa que realiza a progressão aritmética de 20 elementos, com primeiro termo e razão definidos pelo usuário: "
   ]
  },
  {
   "cell_type": "code",
   "execution_count": 18,
   "metadata": {},
   "outputs": [
    {
     "name": "stdout",
     "output_type": "stream",
     "text": [
      "67\n",
      "10\n",
      "13\n",
      "16\n",
      "19\n",
      "22\n",
      "25\n",
      "28\n",
      "31\n",
      "34\n",
      "37\n",
      "40\n",
      "43\n",
      "46\n",
      "49\n",
      "52\n",
      "55\n",
      "58\n",
      "61\n",
      "64\n",
      "67\n"
     ]
    }
   ],
   "source": [
    "a = int(input('Digite o primeiro termo da p.a.: '))\n",
    "d = int(input('Digite a razão p.a.: '))\n",
    "\n",
    "pa = a + (20 -1)*d\n",
    "\n",
    "#print(pa)\n",
    "\n",
    "for i in range(a, pa + d, d):\n",
    "  print(i)\n",
    "  \n",
    "  \n"
   ]
  },
  {
   "cell_type": "markdown",
   "metadata": {},
   "source": [
    "32 - Crie um programa que exibe em tela a tabuada de um determinado número fornecido pelo usuário: "
   ]
  },
  {
   "cell_type": "code",
   "execution_count": 9,
   "metadata": {},
   "outputs": [
    {
     "name": "stdout",
     "output_type": "stream",
     "text": [
      "10 X 1 = 10\n",
      "10 X 2 = 20\n",
      "10 X 3 = 30\n",
      "10 X 4 = 40\n",
      "10 X 5 = 50\n",
      "10 X 6 = 60\n",
      "10 X 7 = 70\n",
      "10 X 8 = 80\n",
      "10 X 9 = 90\n",
      "10 X 10 = 100\n"
     ]
    }
   ],
   "source": [
    "x = int(input('Digite um número: '))\n",
    "\n",
    "\n",
    "for num in range(1,11):\n",
    "  resultado = x * num\n",
    "  print (f'{x} X {num} = {resultado}')"
   ]
  },
  {
   "cell_type": "markdown",
   "metadata": {},
   "source": [
    "33 - Crie um programa que realiza a contagem regressiva de 20 segundos:"
   ]
  },
  {
   "cell_type": "code",
   "execution_count": 25,
   "metadata": {},
   "outputs": [
    {
     "name": "stdout",
     "output_type": "stream",
     "text": [
      "20\n",
      "19\n",
      "18\n",
      "17\n",
      "16\n",
      "15\n",
      "14\n",
      "13\n",
      "12\n",
      "11\n",
      "10\n",
      "9\n",
      "8\n",
      "7\n",
      "6\n",
      "5\n",
      "4\n",
      "3\n",
      "2\n",
      "1\n",
      "0\n"
     ]
    }
   ],
   "source": [
    "from time import sleep\n",
    "for i in range(20,-1,-1):\n",
    "  print(i)\n",
    "  sleep(1)"
   ]
  },
  {
   "cell_type": "markdown",
   "metadata": {},
   "source": [
    "34 - Crie um programa que realiza a contagem de 1 até 100, usando apenas de números ímpares, ao final do processo exiba em tela quantos números ímpares foram encontrados nesse intervalo, assim como a soma dos mesmos: "
   ]
  },
  {
   "cell_type": "code",
   "execution_count": 33,
   "metadata": {},
   "outputs": [
    {
     "name": "stdout",
     "output_type": "stream",
     "text": [
      "Foram encontrados 33 números ímpares\n",
      "A soma dos números ímpares é 1683.\n"
     ]
    }
   ],
   "source": [
    "# O CALCULO APRESENTADO NO LIVRO ESTÁ ERRADO POIS MULTIPLOS DE 3 TAMBÉM PODEM SER NÚMEROS PARES COMO 6,12,18,24...\n",
    "# TODOS SÃO DIVISIVEIS POR 3 E O MÓDULO É 0. PORTANTO A RESOLUÇÃO DESSA QUESTÃO APRESENTADA NO LIVRO ESTÁ ERRADA.\n",
    "\n",
    "contador = 0\n",
    "soma = 0\n",
    "for i in range(1, 100):\n",
    "  if i % 3 == 0:\n",
    "    contador += 1\n",
    "    soma += i\n",
    "print(f'Foram encontrados {contador} números ímpares')\n",
    "print(f'A soma dos números ímpares é {soma}.')"
   ]
  },
  {
   "cell_type": "code",
   "execution_count": 31,
   "metadata": {},
   "outputs": [
    {
     "name": "stdout",
     "output_type": "stream",
     "text": [
      "3\n",
      "6\n",
      "9\n",
      "12\n",
      "15\n",
      "18\n",
      "21\n",
      "24\n",
      "27\n",
      "30\n",
      "33\n",
      "36\n",
      "39\n",
      "42\n",
      "45\n",
      "48\n",
      "51\n",
      "54\n",
      "57\n",
      "60\n",
      "63\n",
      "66\n",
      "69\n",
      "72\n",
      "75\n",
      "78\n",
      "81\n",
      "84\n",
      "87\n",
      "90\n",
      "93\n",
      "96\n",
      "99\n",
      "Foram encontrados 33 números ímpares\n",
      "A soma dos números ímpares é 1683.\n"
     ]
    }
   ],
   "source": [
    "# SOLUÇÃO CORRETA:\n",
    "\n",
    "contador = 0\n",
    "soma = 0\n",
    "\n",
    "for i in range(1, 100):\n",
    "  if i % 2 != 0:\n",
    "    print (i)\n",
    "    contador += 1\n",
    "    soma += i\n",
    "print(f'Foram encontrados {contador} números ímpares')\n",
    "print(f'A soma dos números ímpares é {soma}.')"
   ]
  },
  {
   "cell_type": "markdown",
   "metadata": {},
   "source": [
    "35 - Crie um programa que pede ao usuário que o mesmo digite um número qualquer, em seguida retorne se esse número é primo ou não, caso não, retorne também quantas vezes esse número é divisíve:"
   ]
  },
  {
   "cell_type": "code",
   "execution_count": 15,
   "metadata": {},
   "outputs": [
    {
     "name": "stdout",
     "output_type": "stream",
     "text": [
      "\u001b[33m1\u001b[31m2\u001b[31m3\u001b[31m4\u001b[31m5\u001b[31m6\u001b[31m7\u001b[31m8\u001b[31m9\u001b[31m10\u001b[31m11\u001b[31m12\u001b[31m13\u001b[31m14\u001b[31m15\u001b[31m16\u001b[31m17\u001b[31m18\u001b[31m19\u001b[31m20\u001b[31m21\u001b[31m22\u001b[31m23\u001b[31m24\u001b[31m25\u001b[31m26\u001b[31m27\u001b[31m28\u001b[31m29\u001b[31m30\u001b[33m31\n",
      "\u001b[mO número 31 foi divisível 2 vezes\n",
      "O número 31 é PRIMO!\n"
     ]
    }
   ],
   "source": [
    "num = int(input('Digite um número: '))\n",
    "total = 0\n",
    "for i in range(1, num + 1):\n",
    "  if num % i == 0:\n",
    "    print('\\033[33m', end='')\n",
    "    total += 1\n",
    "  else:\n",
    "    print('\\033[31m', end='')\n",
    "  print(f'{i}', end='')\n",
    "print(f'\\n\\033[mO número {num} foi divisível {total} vezes')\n",
    "if total == 2:\n",
    "  print(f'O número {num} é PRIMO!')\n",
    "else:\n",
    "  print(f'O número {num} é NÃO É PRIMO!')\n"
   ]
  },
  {
   "cell_type": "markdown",
   "metadata": {},
   "source": [
    "36 - Crie um programa que pede que o usuário digite um nome ou uma frase, verifique se esse conteúdo digitado é um palíndromo ou não, exibindo em tela esse resultado:"
   ]
  },
  {
   "cell_type": "code",
   "execution_count": null,
   "metadata": {},
   "outputs": [],
   "source": []
  },
  {
   "cell_type": "markdown",
   "metadata": {},
   "source": [
    "37 - Declare uma variável que por sua vez recebe um nome digitado pelo usuário, em seguida, exiba em tela uma mensagem de boas-vindas que incorpora o nome anteriormente digitado, fazendo uso de f'strings;"
   ]
  },
  {
   "cell_type": "code",
   "execution_count": null,
   "metadata": {},
   "outputs": [],
   "source": []
  },
  {
   "cell_type": "markdown",
   "metadata": {},
   "source": [
    "38 - Peça para que o usuário digite um número, diretamente dentro da função print() eleve esse número ao quadrado, exibindo o resultado incorporado a uma mensagem."
   ]
  },
  {
   "cell_type": "code",
   "execution_count": null,
   "metadata": {},
   "outputs": [],
   "source": []
  },
  {
   "cell_type": "markdown",
   "metadata": {},
   "source": [
    "39 - Dada a seguinte lista: nomes = ['Ana','Carlos','Daiane','Fernando','Maria'], substitua o terceiro elemento da lista por 'Jamile':"
   ]
  },
  {
   "cell_type": "code",
   "execution_count": null,
   "metadata": {},
   "outputs": [],
   "source": []
  },
  {
   "cell_type": "markdown",
   "metadata": {},
   "source": [
    "40 - Adicione o elemento 'Paulo' na lista nomes:"
   ]
  },
  {
   "cell_type": "code",
   "execution_count": null,
   "metadata": {},
   "outputs": [],
   "source": []
  }
 ],
 "metadata": {
  "kernelspec": {
   "display_name": "Python 3",
   "language": "python",
   "name": "python3"
  },
  "language_info": {
   "codemirror_mode": {
    "name": "ipython",
    "version": 3
   },
   "file_extension": ".py",
   "mimetype": "text/x-python",
   "name": "python",
   "nbconvert_exporter": "python",
   "pygments_lexer": "ipython3",
   "version": "3.11.6"
  }
 },
 "nbformat": 4,
 "nbformat_minor": 2
}
