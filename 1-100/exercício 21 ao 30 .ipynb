{
 "cells": [
  {
   "cell_type": "markdown",
   "metadata": {},
   "source": [
    "###### 400 exercícios do básico ao avançado"
   ]
  },
  {
   "cell_type": "markdown",
   "metadata": {},
   "source": [
    "21 - Verifique se os valores de num1 e de num2 são iguais ou menores que 100"
   ]
  },
  {
   "cell_type": "code",
   "execution_count": 1,
   "metadata": {},
   "outputs": [
    {
     "name": "stdout",
     "output_type": "stream",
     "text": [
      "True\n"
     ]
    }
   ],
   "source": [
    "num1 = 100\n",
    "num2 = 89\n",
    "\n",
    "print(num1 <= 100 >= num2)"
   ]
  },
  {
   "cell_type": "markdown",
   "metadata": {},
   "source": [
    "22 - Verifique se os valores de num1 OU de num2 são iguais ou maiores que 100"
   ]
  },
  {
   "cell_type": "code",
   "execution_count": 2,
   "metadata": {},
   "outputs": [
    {
     "name": "stdout",
     "output_type": "stream",
     "text": [
      "True\n"
     ]
    }
   ],
   "source": [
    "print(num1 >= 100 or num2 >= 100)"
   ]
  },
  {
   "cell_type": "markdown",
   "metadata": {},
   "source": [
    "23 - Verifique se o valor de num1 consta nos elementos de lista1.\n",
    "     Sendo num1 = 100 e lista1 = [10, 100, 1000, 10000, 100000]"
   ]
  },
  {
   "cell_type": "code",
   "execution_count": 3,
   "metadata": {},
   "outputs": [
    {
     "name": "stdout",
     "output_type": "stream",
     "text": [
      "True\n"
     ]
    }
   ],
   "source": [
    "num1 = 100\n",
    "lista1 = [10, 100, 1000, 10000, 100000]\n",
    "\n",
    "\n",
    "print(num1 in lista1)"
   ]
  },
  {
   "cell_type": "markdown",
   "metadata": {},
   "source": [
    "24 - Crie duas variáveis com dois valores numéricos inteiros digitados pelo usuário,\n",
    "     caso o valor do primeiro número for maior que o do segundo, exiba em tela ume mensagem dizendo que o primeiro valor dgitado é menor que o segundo."
   ]
  },
  {
   "cell_type": "code",
   "execution_count": 16,
   "metadata": {},
   "outputs": [
    {
     "name": "stdout",
     "output_type": "stream",
     "text": [
      "O primeiro valor é 10.\n",
      "O segundo valor é 10.\n",
      "Os valores são iguais.\n"
     ]
    }
   ],
   "source": [
    "num1 = int(input('Digite o primeiro valor: '))\n",
    "num2 = int(input('Digite o segundo valor: '))\n",
    "\n",
    "print(f'O primeiro valor é {num1}.')\n",
    "print(f'O segundo valor é {num2}.')\n",
    "\n",
    "if num1 < num2:\n",
    "  print('O segundo valor é maior.')\n",
    "elif num1 > num2:\n",
    "  print('O primeiro valor é maior.')\n",
    "else:  \n",
    "  print('Os valores são iguais.')\n"
   ]
  },
  {
   "cell_type": "markdown",
   "metadata": {},
   "source": [
    "25 - peça para que o usuário digite um número, em seguida exiba em tela uma mensagem dizendo se tal número é PAR ou ÍMPAR"
   ]
  },
  {
   "cell_type": "code",
   "execution_count": 20,
   "metadata": {},
   "outputs": [
    {
     "name": "stdout",
     "output_type": "stream",
     "text": [
      "O número 122 é ÍMPAR.\n"
     ]
    }
   ],
   "source": [
    "num1 = int(input('Digite o primeiro valor: '))\n",
    "\n",
    "if num1 % 2 == 0:\n",
    "  print(f'O número {num1} é PAR.')\n",
    "else:\n",
    "  print(f'O número {num1} é ÍMPAR.')"
   ]
  },
  {
   "cell_type": "markdown",
   "metadata": {},
   "source": [
    "26 - Crie uma variável com valor inicial 0.\n",
    "     enquato o valor dessa variável for igual ou menor que 10, exiba em tela o\n",
    "     próprio valor da variavel. A cada execução a mesma deve ter seu valor atualizado, incrementado em 1 unidade."
   ]
  },
  {
   "cell_type": "code",
   "execution_count": 1,
   "metadata": {},
   "outputs": [
    {
     "name": "stdout",
     "output_type": "stream",
     "text": [
      "1\n",
      "2\n",
      "3\n",
      "4\n",
      "5\n",
      "6\n",
      "7\n",
      "8\n",
      "9\n",
      "10\n"
     ]
    }
   ],
   "source": [
    "from time import sleep\n",
    "var = 0\n",
    "\n",
    "while var < 10:\n",
    "  var = var + 1\n",
    "  print(var)\n",
    "  sleep(.5)\n"
   ]
  },
  {
   "cell_type": "markdown",
   "metadata": {},
   "source": [
    "27 - Crie uma estrutura de repetição que percorre a string 'NIKOLA TESLA', exibindo em tela letra por letra desse nome:"
   ]
  },
  {
   "cell_type": "code",
   "execution_count": 4,
   "metadata": {},
   "outputs": [
    {
     "name": "stdout",
     "output_type": "stream",
     "text": [
      "n\n",
      "i\n",
      "k\n",
      "o\n",
      "l\n",
      "a\n",
      " \n",
      "t\n",
      "e\n",
      "s\n",
      "l\n",
      "a\n"
     ]
    }
   ],
   "source": [
    "for i in 'nikola tesla':\n",
    "  print(i)\n",
    "  sleep(.5)"
   ]
  },
  {
   "cell_type": "markdown",
   "metadata": {},
   "source": [
    "28 - Crie uma lista com 8 elementos de uma lista de compras de supermercado, \n",
    "     por meio de um laço de repetição 'for' liste individualmente cada um dos itens dessa lista."
   ]
  },
  {
   "cell_type": "code",
   "execution_count": 6,
   "metadata": {},
   "outputs": [
    {
     "name": "stdout",
     "output_type": "stream",
     "text": [
      "pão\n",
      "café\n",
      "açucar\n",
      "farinha\n",
      "queijo\n",
      "feijão\n",
      "arroz\n",
      "macarrão\n"
     ]
    }
   ],
   "source": [
    "compras = ['pão','café','açucar','farinha','queijo','feijão','arroz','macarrão']\n",
    "\n",
    "for i in compras:\n",
    "  print(i)\n",
    "  sleep(.5)"
   ]
  },
  {
   "cell_type": "markdown",
   "metadata": {},
   "source": [
    "29 - Crie um programa que lê um valor de início e um valor de fim, exibindo em tela a contagem dos números dentro desse intervalo."
   ]
  },
  {
   "cell_type": "code",
   "execution_count": 18,
   "metadata": {},
   "outputs": [
    {
     "name": "stdout",
     "output_type": "stream",
     "text": [
      "1\n",
      "2\n",
      "3\n",
      "4\n",
      "5\n"
     ]
    }
   ],
   "source": [
    "inicio = int(input('Digite o valor de início: '))\n",
    "fim = int(input('Digite o valor de fim: '))\n",
    "\n",
    "while inicio < fim:\n",
    "  print(inicio)\n",
    "  inicio += 1\n",
    "  \n",
    "print(fim)\n",
    "  "
   ]
  },
  {
   "cell_type": "code",
   "execution_count": 20,
   "metadata": {},
   "outputs": [
    {
     "name": "stdout",
     "output_type": "stream",
     "text": [
      "1\n",
      "2\n",
      "3\n",
      "4\n",
      "5\n"
     ]
    }
   ],
   "source": [
    "inicio = int(input('Digite o valor de início: '))\n",
    "fim = int(input('Digite o valor de fim: '))\n",
    "\n",
    "for i in range(inicio,fim+1):\n",
    "  print(i)"
   ]
  },
  {
   "cell_type": "markdown",
   "metadata": {},
   "source": [
    "30 - Crie um programa que realiza a contagem de 0 a 20, exibindo apenas os números pares."
   ]
  },
  {
   "cell_type": "code",
   "execution_count": 28,
   "metadata": {},
   "outputs": [
    {
     "name": "stdout",
     "output_type": "stream",
     "text": [
      "0\n",
      "2\n",
      "4\n",
      "6\n",
      "8\n",
      "10\n",
      "12\n",
      "14\n",
      "16\n",
      "18\n",
      "20\n"
     ]
    }
   ],
   "source": [
    "for i in range(0,21,2): # range(inicio,fim,fatiamento)\n",
    "  print(i)"
   ]
  },
  {
   "cell_type": "code",
   "execution_count": 24,
   "metadata": {},
   "outputs": [
    {
     "name": "stdout",
     "output_type": "stream",
     "text": [
      "0\n",
      "2\n",
      "4\n",
      "6\n",
      "8\n",
      "10\n",
      "12\n",
      "14\n",
      "16\n",
      "18\n",
      "20\n"
     ]
    }
   ],
   "source": [
    "for i in range(0,21):\n",
    "  if i % 2 == 0:\n",
    "    print(i)"
   ]
  }
 ],
 "metadata": {
  "kernelspec": {
   "display_name": "Python 3",
   "language": "python",
   "name": "python3"
  },
  "language_info": {
   "codemirror_mode": {
    "name": "ipython",
    "version": 3
   },
   "file_extension": ".py",
   "mimetype": "text/x-python",
   "name": "python",
   "nbconvert_exporter": "python",
   "pygments_lexer": "ipython3",
   "version": "3.11.6"
  }
 },
 "nbformat": 4,
 "nbformat_minor": 2
}
