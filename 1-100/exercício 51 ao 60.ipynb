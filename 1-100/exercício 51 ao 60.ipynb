{
 "cells": [
  {
   "cell_type": "markdown",
   "metadata": {},
   "source": [
    "###### 400 exercícios do básico ao avançado"
   ]
  },
  {
   "cell_type": "markdown",
   "metadata": {},
   "source": [
    "51 - Crie uma função de nome funcao1, que por sua vez não realiza nenhuma ação:"
   ]
  },
  {
   "cell_type": "code",
   "execution_count": 2,
   "metadata": {},
   "outputs": [],
   "source": [
    "def funcao1():\n",
    "  pass"
   ]
  },
  {
   "cell_type": "markdown",
   "metadata": {},
   "source": [
    "52 - Atribua a funcao1 a uma variável:"
   ]
  },
  {
   "cell_type": "code",
   "execution_count": null,
   "metadata": {},
   "outputs": [],
   "source": [
    "def funcao1():\n",
    "  pass\n",
    "\n",
    "\n",
    "variavel = funcao1()"
   ]
  },
  {
   "cell_type": "markdown",
   "metadata": {},
   "source": [
    "53 - Crie uma função que retorne um valor padrão:"
   ]
  },
  {
   "cell_type": "code",
   "execution_count": 16,
   "metadata": {},
   "outputs": [
    {
     "name": "stdout",
     "output_type": "stream",
     "text": [
      "0\n"
     ]
    }
   ],
   "source": [
    "def padrao():\n",
    "  return 0\n",
    "\n",
    "variavel2 = padrao()\n",
    "\n",
    "print(variavel2)"
   ]
  },
  {
   "cell_type": "markdown",
   "metadata": {},
   "source": [
    "54 - Crie uma função que exibe em tela uma mensagem de boas-vindas:"
   ]
  },
  {
   "cell_type": "code",
   "execution_count": 14,
   "metadata": {},
   "outputs": [
    {
     "name": "stdout",
     "output_type": "stream",
     "text": [
      "Boas vindas!\n"
     ]
    }
   ],
   "source": [
    "def mensagem(): \n",
    "  print('Boas vindas!')\n",
    "  \n",
    "variavel3 = mensagem()\n",
    "\n"
   ]
  },
  {
   "cell_type": "markdown",
   "metadata": {},
   "source": [
    "55 - Crie uma função que recebe um nome como parâmetro e exibe em tela uma mensagem de boas-vindas. O nome deve ser fornecido pelo usuário, incorporado na mensagem de boas-vindas da função:"
   ]
  },
  {
   "cell_type": "code",
   "execution_count": 35,
   "metadata": {},
   "outputs": [
    {
     "name": "stdout",
     "output_type": "stream",
     "text": [
      "Seja bem vindo(a) Jhon!!\n"
     ]
    }
   ],
   "source": [
    "\n",
    "\n",
    "def msg(nome): \n",
    "  print(f'Seja bem vindo(a) {nome}!!')\n",
    "\n",
    "nome = str(input('Digite seu nome ')).capitalize()  \n",
    "BoasVindas = msg(nome)  \n",
    "\n",
    "\n"
   ]
  },
  {
   "cell_type": "code",
   "execution_count": 33,
   "metadata": {},
   "outputs": [
    {
     "name": "stdout",
     "output_type": "stream",
     "text": [
      "Bem vindo jhon!!\n"
     ]
    }
   ],
   "source": [
    "def mensagem(nome):\n",
    "  print(f'Bem vindo {nome}')\n",
    "  \n",
    "nome = input('Digite seu nome: ')\n",
    "nome = mensagem(nome)"
   ]
  },
  {
   "cell_type": "markdown",
   "metadata": {},
   "source": [
    "56 - Crie uma função que recebe um valor digitado pelo usuário e eleva esse valor ao quadrado:"
   ]
  },
  {
   "cell_type": "code",
   "execution_count": 34,
   "metadata": {},
   "outputs": [
    {
     "name": "stdout",
     "output_type": "stream",
     "text": [
      "O número 3 elevado ao quadrado é: 9\n"
     ]
    }
   ],
   "source": [
    "\n",
    "\n",
    "def exp(num):\n",
    "  print(f'O número {num} elevado ao quadrado é: {num ** 2}')\n",
    "\n",
    "num = int(input('Digite um número: '))  \n",
    "resultado = exp(num)"
   ]
  },
  {
   "cell_type": "code",
   "execution_count": 36,
   "metadata": {},
   "outputs": [
    {
     "name": "stdout",
     "output_type": "stream",
     "text": [
      "9\n"
     ]
    }
   ],
   "source": [
    "def exp(num):\n",
    "  return num ** 2\n",
    "\n",
    "num = int(input('Digite um número: '))\n",
    "num = exp(num)\n",
    "\n",
    "print(num)"
   ]
  },
  {
   "cell_type": "markdown",
   "metadata": {},
   "source": [
    "57 - Crie uma função com dois parâmetros relacionados ao nome e sobrenome de uma pessoa, a função deve retornar uma mensagem de boas-vindas e esses dados devem ser digitados pelo usuário:"
   ]
  },
  {
   "cell_type": "code",
   "execution_count": 38,
   "metadata": {},
   "outputs": [
    {
     "name": "stdout",
     "output_type": "stream",
     "text": [
      "Seja bem vindo Jhonata Leoncio!!!\n"
     ]
    }
   ],
   "source": [
    "\n",
    "def msg(nome,sobrenome):\n",
    "  print(f'Seja bem vindo {nome} {sobrenome}!!!')\n",
    "  \n",
    "nome = str(input('Digite Seu nome: ')).capitalize()\n",
    "sobrenome = str(input('Digite Seu sobrenome: ')).capitalize()\n",
    "boasvindas = msg(nome,sobrenome)"
   ]
  },
  {
   "cell_type": "markdown",
   "metadata": {},
   "source": [
    "58 - Crie uma função com dois parâmetros, sendo um deles com um dado/valor predeterminado:"
   ]
  },
  {
   "cell_type": "code",
   "execution_count": 44,
   "metadata": {},
   "outputs": [
    {
     "name": "stdout",
     "output_type": "stream",
     "text": [
      "O número 2 elevado à 5ª potência é: 32\n"
     ]
    }
   ],
   "source": [
    "\n",
    "def exp(parametro1,parametro2):\n",
    "  print(f'O número {parametro2} elevado à {parametro1}ª potência é: {parametro2 ** parametro1}' )\n",
    "  \n",
    "\n",
    "\n",
    "parametro1 = 5\n",
    "parametro2 = int(input('Digite um valor: '))\n",
    "resultado = exp(parametro1,parametro2)"
   ]
  },
  {
   "cell_type": "markdown",
   "metadata": {},
   "source": [
    "59 - Crie uma função com três parâmetros, sendo dois deles com dados/valores padrão, alterando o teceiro deles contornando o paradigma da justaposição de argumentos:"
   ]
  },
  {
   "cell_type": "code",
   "execution_count": 48,
   "metadata": {},
   "outputs": [
    {
     "name": "stdout",
     "output_type": "stream",
     "text": [
      "O funcionário Jhonata tem 33 anos de idade e seu cargo na empresa é o de Diretor.\n"
     ]
    }
   ],
   "source": [
    "def cadastro(nome,cargo,idade):\n",
    "  print(f'O funcionário {nome} tem {idade} anos de idade e seu cargo na empresa é o de {cargo}.')\n",
    "  \n",
    "  \n",
    "nome = str(input('Digite seu nome: ')).capitalize()\n",
    "idade = 33\n",
    "cargo = 'Diretor'\n",
    "\n",
    "cadastrofuncionario = cadastro(nome,cargo,idade)"
   ]
  },
  {
   "cell_type": "markdown",
   "metadata": {},
   "source": [
    "60 - Crie uma função que pode conter dois ou mais parâmetros, porém sem um número definido e declarado de parâmetros:"
   ]
  },
  {
   "cell_type": "markdown",
   "metadata": {},
   "source": []
  },
  {
   "cell_type": "code",
   "execution_count": 1,
   "metadata": {},
   "outputs": [
    {
     "name": "stdout",
     "output_type": "stream",
     "text": [
      "Os parâmetros são ('nome = Fernando', 'Idade = 33', 'profissão = professor')\n"
     ]
    }
   ],
   "source": [
    "def msg(*args):\n",
    "  print(f'Os parâmetros são {args}')\n",
    "  \n",
    "ex2 = msg('nome = Fernando', 'Idade = 33', 'profissão = professor')"
   ]
  }
 ],
 "metadata": {
  "kernelspec": {
   "display_name": "Python 3",
   "language": "python",
   "name": "python3"
  },
  "language_info": {
   "codemirror_mode": {
    "name": "ipython",
    "version": 3
   },
   "file_extension": ".py",
   "mimetype": "text/x-python",
   "name": "python",
   "nbconvert_exporter": "python",
   "pygments_lexer": "ipython3",
   "version": "3.11.6"
  }
 },
 "nbformat": 4,
 "nbformat_minor": 2
}
