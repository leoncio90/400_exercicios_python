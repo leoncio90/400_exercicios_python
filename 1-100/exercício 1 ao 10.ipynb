{
 "cells": [
  {
   "cell_type": "markdown",
   "metadata": {},
   "source": [
    "###### 400 exercícios do básico ao avançado"
   ]
  },
  {
   "cell_type": "markdown",
   "metadata": {},
   "source": [
    "1 - Crie 3 variáveis com 3 tipos de dados diferentes, respeitando sua sintaxe"
   ]
  },
  {
   "cell_type": "code",
   "execution_count": 1,
   "metadata": {},
   "outputs": [],
   "source": [
    "string_nome = 'Jhonata'\n",
    "int_inteiro = 10\n",
    "float_ponto_flutuante = 1.5\n",
    "booleano = 'Falso'\n",
    "\n",
    "ano = 2023\n",
    "valor = 1.99"
   ]
  },
  {
   "cell_type": "markdown",
   "metadata": {},
   "source": [
    "2 - Crie um comentário de no máximo uma linha"
   ]
  },
  {
   "cell_type": "code",
   "execution_count": 2,
   "metadata": {},
   "outputs": [],
   "source": [
    "# Criando comentário de uma linha"
   ]
  },
  {
   "cell_type": "markdown",
   "metadata": {},
   "source": [
    "3 - Crie um comentário de mais de uma linha"
   ]
  },
  {
   "cell_type": "code",
   "execution_count": 3,
   "metadata": {},
   "outputs": [
    {
     "data": {
      "text/plain": [
       "'Comentário de mais de uma linha\\nda lista de exercício de 400 exercícios\\ndo básico ao avançado. todo comentário deve estar entre 3 aspas simples\\nou 3 aspas duplas'"
      ]
     },
     "execution_count": 3,
     "metadata": {},
     "output_type": "execute_result"
    }
   ],
   "source": [
    "'''Comentário de mais de uma linha\n",
    "da lista de exercício de 400 exercícios\n",
    "do básico ao avançado. todo comentário deve estar entre 3 aspas simples\n",
    "ou 3 aspas duplas'''"
   ]
  },
  {
   "cell_type": "markdown",
   "metadata": {},
   "source": [
    "4 - Escreva um programa que mostra em tela a mensagem: Olá Mundo!!!"
   ]
  },
  {
   "cell_type": "code",
   "execution_count": 4,
   "metadata": {},
   "outputs": [
    {
     "name": "stdout",
     "output_type": "stream",
     "text": [
      "Olá Mundo!!!\n"
     ]
    }
   ],
   "source": [
    "print(str('Olá Mundo!!!'))\n",
    "#print(bool('Olá Mundo!!!'))\n",
    "#print(int('123'))"
   ]
  },
  {
   "cell_type": "markdown",
   "metadata": {},
   "source": [
    "5 - Crie uma variável nome e atribua para a mesma um nome digitado pelo usuário:"
   ]
  },
  {
   "cell_type": "code",
   "execution_count": 6,
   "metadata": {},
   "outputs": [
    {
     "name": "stdout",
     "output_type": "stream",
     "text": [
      "seu nome é Jhonata\n"
     ]
    }
   ],
   "source": [
    "nome = input('Digite o seu nome: ').capitalize()\n",
    "\n",
    "print(f'seu nome é {nome}')"
   ]
  },
  {
   "cell_type": "markdown",
   "metadata": {},
   "source": [
    "6 - Exiba em tela o valor e o tipo de dado da variável num1: Sendo num1 = 1987."
   ]
  },
  {
   "cell_type": "code",
   "execution_count": 7,
   "metadata": {},
   "outputs": [
    {
     "name": "stdout",
     "output_type": "stream",
     "text": [
      "1987\n",
      "<class 'int'>\n",
      "jhonata\n",
      "<class 'str'>\n",
      "True\n",
      "<class 'bool'>\n",
      "1.44\n",
      "<class 'float'>\n"
     ]
    }
   ],
   "source": [
    "num1 = 1987\n",
    "nome = 'jhonata'\n",
    "boleano = bool('True ou False')\n",
    "flutuante = 1.44\n",
    "\n",
    "print(num1)\n",
    "print(type(num1))\n",
    "\n",
    "print(nome)\n",
    "print(type(nome))\n",
    "\n",
    "print(boleano)\n",
    "print(type(boleano))\n",
    "\n",
    "print(flutuante)\n",
    "print(type(flutuante))"
   ]
  },
  {
   "cell_type": "markdown",
   "metadata": {},
   "source": [
    "7 - peça para o usuário digitar um número em seguida exibir em tela o número digitado."
   ]
  },
  {
   "cell_type": "code",
   "execution_count": 3,
   "metadata": {},
   "outputs": [
    {
     "name": "stdout",
     "output_type": "stream",
     "text": [
      "Entrada inválida\n"
     ]
    }
   ],
   "source": [
    "num = float(input('Digite um número inteiro: '))\n",
    "\n",
    "if num.is_integer():\n",
    "  num = int(num)\n",
    "  print(f'O número digitado é {num}')\n",
    "else:\n",
    "  print('Entrada inválida')"
   ]
  },
  {
   "cell_type": "code",
   "execution_count": 3,
   "metadata": {},
   "outputs": [
    {
     "name": "stdout",
     "output_type": "stream",
     "text": [
      "O número digitado é 10\n",
      "O número digitado é 1\n",
      "O número digitado é 2\n",
      "O número digitado é 3\n",
      "O número digitado é 4\n",
      "Entrada inválida. Certifique-se que está digitando um número inteiro\n"
     ]
    }
   ],
   "source": [
    "#criando um loop utilizado while(enquanto)\n",
    "while True:\n",
    "  try:\n",
    "    num = float(input('Digite um número inteiro: '))\n",
    "\n",
    "    if num.is_integer():\n",
    "      num = int(num)\n",
    "      print(f'O número digitado é {num}')\n",
    "      \n",
    "    else:\n",
    "      print('Entrada inválida. Certifique-se que está digitando um número inteiro.')\n",
    "      \n",
    "  except ValueError:\n",
    "    break"
   ]
  },
  {
   "cell_type": "markdown",
   "metadata": {},
   "source": [
    "8 - Peça para que o usuário digite um número, em seguida converta para float, exibindo em tela tanto o número em si quanto o seu tipo de dado:"
   ]
  },
  {
   "cell_type": "code",
   "execution_count": 4,
   "metadata": {},
   "outputs": [
    {
     "name": "stdout",
     "output_type": "stream",
     "text": [
      "2.0\n",
      "<class 'float'>\n"
     ]
    }
   ],
   "source": [
    "num = input('Digite um número: ')\n",
    "num = float(num)\n",
    "\n",
    "print(num)\n",
    "print(type(num))"
   ]
  },
  {
   "cell_type": "markdown",
   "metadata": {},
   "source": [
    "9 - crie uma lista com 5 nomes de de pessoas:"
   ]
  },
  {
   "cell_type": "code",
   "execution_count": 29,
   "metadata": {},
   "outputs": [
    {
     "name": "stdout",
     "output_type": "stream",
     "text": [
      "['joao', 'jose', 'maria', 'marta', 'jhonata']\n",
      "jhonata\n",
      "[]\n",
      "['maria', 'marta']\n"
     ]
    }
   ],
   "source": [
    "lista = ['joao','jose','maria','marta','jhonata']\n",
    "\n",
    "\n",
    "print(lista[0:5])\n",
    "\n",
    "print(lista[4])\n",
    "\n",
    "print(lista[0:0])\n",
    "\n",
    "print(lista[2:4])"
   ]
  },
  {
   "cell_type": "markdown",
   "metadata": {},
   "source": [
    "10 - Mostre o tamanho da lista , o número de elementos da lista:\n",
    "     Mostre separadamente apenas o terceiro elemento dessa lista:"
   ]
  },
  {
   "cell_type": "code",
   "execution_count": 32,
   "metadata": {},
   "outputs": [
    {
     "name": "stdout",
     "output_type": "stream",
     "text": [
      "5\n",
      "maria\n"
     ]
    }
   ],
   "source": [
    "'''A questão está mal formulada pois a resposta no livro é print(nomes[3]). \n",
    "O terceiro elemento ou terceiro item seria o de número 2. \n",
    "pois a contagem se inicia no número 0 e nesse caso, encerra no 4. Logo o terceiro elemento é o número 2\n",
    "de acordo com a regra de contagem de itens em listas.\n",
    "Se fosse solicitado o elemento de número 3, aí sim a questão estaria correta e de acordo com a resolução do livro. '''\n",
    "print(len(lista))\n",
    "\n",
    "print(lista[2])"
   ]
  }
 ],
 "metadata": {
  "kernelspec": {
   "display_name": "Python 3",
   "language": "python",
   "name": "python3"
  },
  "language_info": {
   "codemirror_mode": {
    "name": "ipython",
    "version": 3
   },
   "file_extension": ".py",
   "mimetype": "text/x-python",
   "name": "python",
   "nbconvert_exporter": "python",
   "pygments_lexer": "ipython3",
   "version": "3.11.6"
  }
 },
 "nbformat": 4,
 "nbformat_minor": 2
}
