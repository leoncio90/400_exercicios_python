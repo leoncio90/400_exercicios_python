{
 "cells": [
  {
   "cell_type": "markdown",
   "metadata": {},
   "source": [
    "###### 400 exercícios do básico ao avançado"
   ]
  },
  {
   "cell_type": "markdown",
   "metadata": {},
   "source": [
    "11 - Some os valores das variáveis num1 e num2: sendo num1 = 52 e num2 = 106. Por fim, exiba em tela o resultado da soma."
   ]
  },
  {
   "cell_type": "code",
   "execution_count": 4,
   "metadata": {},
   "outputs": [
    {
     "name": "stdout",
     "output_type": "stream",
     "text": [
      "O resultado da soma entre 52 e 106 é: 158\n",
      "158\n"
     ]
    }
   ],
   "source": [
    "num1 = 52\n",
    "num2 = 106\n",
    "\n",
    "resultado = num1 + num2\n",
    "\n",
    "print(f'O resultado da soma entre {num1} e {num2} é: {resultado}')\n",
    "\n",
    "print(num1+num2)"
   ]
  },
  {
   "cell_type": "markdown",
   "metadata": {},
   "source": [
    "12 - Some os valores das variáveis num1 e num2, atribuindo o resultado da soma a uma nova variável homônima.\n",
    "     Exiba em tela o conteúdo dessa variável"
   ]
  },
  {
   "cell_type": "code",
   "execution_count": 5,
   "metadata": {},
   "outputs": [
    {
     "name": "stdout",
     "output_type": "stream",
     "text": [
      "158\n"
     ]
    }
   ],
   "source": [
    "soma = num1 + num2\n",
    "\n",
    "print(soma)"
   ]
  },
  {
   "cell_type": "markdown",
   "metadata": {},
   "source": [
    "13 - Subtraia os valores de num1 e num2"
   ]
  },
  {
   "cell_type": "code",
   "execution_count": 6,
   "metadata": {},
   "outputs": [
    {
     "name": "stdout",
     "output_type": "stream",
     "text": [
      "-54\n"
     ]
    }
   ],
   "source": [
    "print(num1 - num2)"
   ]
  },
  {
   "cell_type": "code",
   "execution_count": 7,
   "metadata": {},
   "outputs": [
    {
     "name": "stdout",
     "output_type": "stream",
     "text": [
      "O resultado da subtração entre 52 e 106 é: -54\n"
     ]
    }
   ],
   "source": [
    "subtracao = num1 - num2\n",
    "\n",
    "print(f'O resultado da subtração entre {num1} e {num2} é: {subtracao}')"
   ]
  },
  {
   "cell_type": "markdown",
   "metadata": {},
   "source": [
    "14 - Realize as operações de multiplicação e de divisão entre os valores das variáveis num1 e num2:"
   ]
  },
  {
   "cell_type": "code",
   "execution_count": 12,
   "metadata": {},
   "outputs": [
    {
     "name": "stdout",
     "output_type": "stream",
     "text": [
      "O resultado da multiplicação entre 52 e 106 é: 5512\n",
      "O resultado da divisão entre 52 e 106 é: 0.49056603773584906\n",
      "O resultado da divisão inteira entre 52 e 106 é: 0\n",
      "O resultado do módulo entre 52 e 106 é: 52\n"
     ]
    }
   ],
   "source": [
    "multiplicacao = num1 * num2\n",
    "divisao = num1 / num2\n",
    "divisao_int = num1 // num2\n",
    "modulo = num1 % num2\n",
    "print(f'O resultado da multiplicação entre {num1} e {num2} é: {multiplicacao}')\n",
    "print(f'O resultado da divisão entre {num1} e {num2} é: {divisao}')\n",
    "print(f'O resultado da divisão inteira entre {num1} e {num2} é: {divisao_int}')\n",
    "print(f'O resultado do módulo entre {num1} e {num2} é: {modulo}')"
   ]
  },
  {
   "cell_type": "markdown",
   "metadata": {},
   "source": [
    "15 - Eleve o valor de num1 a oitava potência, sendo num1 = 51:"
   ]
  },
  {
   "cell_type": "code",
   "execution_count": 13,
   "metadata": {},
   "outputs": [
    {
     "name": "stdout",
     "output_type": "stream",
     "text": [
      "45767944570401\n"
     ]
    }
   ],
   "source": [
    "num1 = 51\n",
    "\n",
    "print(num1 ** 8)"
   ]
  },
  {
   "cell_type": "markdown",
   "metadata": {},
   "source": [
    "16 - Escreva um programa que pede que o usuário dê entrada em dois valores, em seguida, exiba em tela o resultado da soma, subtração,\n",
    "     multiplicação e divisão desses números:"
   ]
  },
  {
   "cell_type": "code",
   "execution_count": 16,
   "metadata": {},
   "outputs": [
    {
     "name": "stdout",
     "output_type": "stream",
     "text": [
      "O resultado da soma entre 10 e 2.0 é: 12.0\n",
      "O resultado da subtração entre 10.0 e 2.0 é: 8.0\n",
      "O resultado da multiplicação entre 10.0 e 2.0 é: 20.0\n",
      "O resultado da divisão entre 10.0 e 2.0 é: 5.0\n"
     ]
    }
   ],
   "source": [
    "num1 = float(input('Digite um número qualquer: '))\n",
    "num2 = float(input('Digite outro número qualquer: '))\n",
    "\n",
    "soma = num1 + num2\n",
    "subtracao = num1 - num2\n",
    "multiplicacao = num1 * num2\n",
    "divisao = num1 / num2\n",
    "\n",
    "print(f'O resultado da soma entre {num1} e {num2} é: {soma}')\n",
    "print(f'O resultado da subtração entre {num1} e {num2} é: {subtracao}')\n",
    "print(f'O resultado da multiplicação entre {num1} e {num2} é: {multiplicacao}')\n",
    "print(f'O resultado da divisão entre {num1} e {num2} é: {divisao}')"
   ]
  },
  {
   "cell_type": "markdown",
   "metadata": {},
   "source": [
    "17 - Dadas duas variáveis num1 e num2 com valores 100 e 89, respectivamente, verifique se o valor de num1 é maior que o de num2:"
   ]
  },
  {
   "cell_type": "code",
   "execution_count": 17,
   "metadata": {},
   "outputs": [
    {
     "name": "stdout",
     "output_type": "stream",
     "text": [
      "True\n"
     ]
    }
   ],
   "source": [
    "num1 = 100\n",
    "num2 = 89\n",
    "\n",
    "\n",
    "print(num1 > num2)"
   ]
  },
  {
   "cell_type": "markdown",
   "metadata": {},
   "source": [
    "18 - Verifique se os valores de num1 e num2 são iguais"
   ]
  },
  {
   "cell_type": "code",
   "execution_count": 18,
   "metadata": {},
   "outputs": [
    {
     "name": "stdout",
     "output_type": "stream",
     "text": [
      "False\n"
     ]
    }
   ],
   "source": [
    "print(num1 == num2)"
   ]
  },
  {
   "cell_type": "markdown",
   "metadata": {},
   "source": [
    "19 - Verifique se os valores de num1 e num2 são diferentes:"
   ]
  },
  {
   "cell_type": "code",
   "execution_count": 19,
   "metadata": {},
   "outputs": [
    {
     "name": "stdout",
     "output_type": "stream",
     "text": [
      "True\n"
     ]
    }
   ],
   "source": [
    "print(num1 != num2)"
   ]
  },
  {
   "cell_type": "markdown",
   "metadata": {},
   "source": [
    "20 - Verifique se o valor de num1 é igual ou menor que 100:"
   ]
  },
  {
   "cell_type": "code",
   "execution_count": 20,
   "metadata": {},
   "outputs": [
    {
     "name": "stdout",
     "output_type": "stream",
     "text": [
      "True\n"
     ]
    }
   ],
   "source": [
    "print(num1 <= 100)"
   ]
  }
 ],
 "metadata": {
  "kernelspec": {
   "display_name": "Python 3",
   "language": "python",
   "name": "python3"
  },
  "language_info": {
   "codemirror_mode": {
    "name": "ipython",
    "version": 3
   },
   "file_extension": ".py",
   "mimetype": "text/x-python",
   "name": "python",
   "nbconvert_exporter": "python",
   "pygments_lexer": "ipython3",
   "version": "3.11.6"
  }
 },
 "nbformat": 4,
 "nbformat_minor": 2
}
